{
  "cells": [
    {
      "cell_type": "markdown",
      "metadata": {
        "id": "QddQHK7I6gAS"
      },
      "source": [
        "#### Instalação dos modulos"
      ]
    },
    {
      "cell_type": "markdown",
      "source": [
        ""
      ],
      "metadata": {
        "id": "rp5rYuORJ0xJ"
      }
    },
    {
      "cell_type": "code",
      "execution_count": 1,
      "metadata": {
        "id": "cxNl9Z5OqkR7"
      },
      "outputs": [],
      "source": [
        "import bs4\n",
        "import urllib.request as urllib_request\n",
        "from urllib.request import urlopen\n",
        "from bs4 import BeautifulSoup\n",
        "from urllib import response\n",
        "from numpy import extract\n"
      ]
    },
    {
      "cell_type": "markdown",
      "metadata": {
        "id": "wvAYTd9A6gAc"
      },
      "source": [
        "#### Importando módulos"
      ]
    },
    {
      "cell_type": "code",
      "execution_count": 2,
      "metadata": {
        "id": "8IJZEbYtnYKh"
      },
      "outputs": [],
      "source": [
        "animal_type = ('Cao','Gato')\n",
        "gender = ('Macho','Femea')\n",
        "size = ('Pequeno','Medio','Grande')\n",
        "age = ('Abaixo-de-2-meses','2-a-6-meses','7-a-11-meses','1-ano','2-anos','3-anos','4-anos','5-anos','6-anos-Acima')\n",
        "goal = ('Encontrado','Adocao','Procura-Perdido')\n",
        "\n",
        "data = []\n",
        "for z in goal:\n",
        "  for a in age:\n",
        "    for b in size:\n",
        "      for c in gender:\n",
        "        for d in animal_type:\n",
        "            url_address=\"https://adotar.com.br/animais.aspx?cc=1484&cn=ms-campo-grande&finalidade={finalidade}&tipo={tipo}&porte={porte}&idade={idade}&sexo={sexo}\".format(finalidade=z,tipo=d,porte=b,sexo=c,idade=a)\n",
        "            response = urlopen(url_address)\n",
        "            html = response.read()\n",
        "            soup = BeautifulSoup(html, 'html.parser')\n",
        "            res = soup.findAll('div', class_=\"listaAnimais\")\n",
        "          \n",
        "            if len(res)>0:\n",
        "              for item in res:\n",
        "                pet = {}\n",
        "                pet['goal'] = z\n",
        "                pet['animal_type'] = d\n",
        "                pet['gender'] = c\n",
        "                pet['size'] = b\n",
        "                pet['year'] = a\n",
        "                if a == age[0] or a==age[1]:\n",
        "                  pet['age'] = 'baby'\n",
        "                elif a == age[2] or a==age[3]:\n",
        "                  pet['age'] = 'children'\n",
        "                else:\n",
        "                  pet['age'] = 'adult'\n",
        "                link = item.find('a')['href']\n",
        "                link = 'https://adotar.com.br'+link\n",
        "          \n",
        "                pet['link'] = link\n",
        "                photo = 'https://'+item.find('img')['src'][2:]\n",
        "                pet['photo'] = photo\n",
        "                name = item.find('div',{'class':'listaAnimaisDados'})\n",
        "                name = name.get_text().split()\n",
        "                pet['name'] = name[0]\n",
        "                responseLink = urlopen(link)\n",
        "                htmlLink = responseLink.read()\n",
        "                soupLink = BeautifulSoup(htmlLink, 'html.parser')\n",
        "                contact = soupLink.find('a',{\"id\":\"mailprop\"})\n",
        "                if contact:\n",
        "                  email = contact['href']\n",
        "                  phone = contact.findNextSibling().find('a').getText()\n",
        "                  pet['email'] = email[7:]\n",
        "                  pet['phone'] = phone\n",
        "                else:\n",
        "                  pet['email'] = 'sem contato'\n",
        "                  pet['phone'] = 'sem contato'\n",
        "                data.append(pet)"
      ]
    },
    {
      "cell_type": "code",
      "source": [
        "len(data)"
      ],
      "metadata": {
        "colab": {
          "base_uri": "https://localhost:8080/"
        },
        "id": "qag_JF9c4cfA",
        "outputId": "9159a77e-a439-4e0a-e132-3e579578ca24"
      },
      "execution_count": 3,
      "outputs": [
        {
          "output_type": "execute_result",
          "data": {
            "text/plain": [
              "1026"
            ]
          },
          "metadata": {},
          "execution_count": 3
        }
      ]
    },
    {
      "cell_type": "code",
      "source": [
        "import pandas as pd\n",
        "dataset = pd.DataFrame(data)\n",
        "dataset"
      ],
      "metadata": {
        "colab": {
          "base_uri": "https://localhost:8080/",
          "height": 835
        },
        "id": "ozFu1Qkr-tZo",
        "outputId": "305ddde5-00ec-4013-84d4-d7c3b5e54824"
      },
      "execution_count": 4,
      "outputs": [
        {
          "output_type": "execute_result",
          "data": {
            "text/html": [
              "\n",
              "  <div id=\"df-6a87ac3d-11e3-479b-ab52-133c153793f8\">\n",
              "    <div class=\"colab-df-container\">\n",
              "      <div>\n",
              "<style scoped>\n",
              "    .dataframe tbody tr th:only-of-type {\n",
              "        vertical-align: middle;\n",
              "    }\n",
              "\n",
              "    .dataframe tbody tr th {\n",
              "        vertical-align: top;\n",
              "    }\n",
              "\n",
              "    .dataframe thead th {\n",
              "        text-align: right;\n",
              "    }\n",
              "</style>\n",
              "<table border=\"1\" class=\"dataframe\">\n",
              "  <thead>\n",
              "    <tr style=\"text-align: right;\">\n",
              "      <th></th>\n",
              "      <th>goal</th>\n",
              "      <th>animal_type</th>\n",
              "      <th>gender</th>\n",
              "      <th>size</th>\n",
              "      <th>year</th>\n",
              "      <th>age</th>\n",
              "      <th>link</th>\n",
              "      <th>photo</th>\n",
              "      <th>name</th>\n",
              "      <th>email</th>\n",
              "      <th>phone</th>\n",
              "    </tr>\n",
              "  </thead>\n",
              "  <tbody>\n",
              "    <tr>\n",
              "      <th>0</th>\n",
              "      <td>Encontrado</td>\n",
              "      <td>Cao</td>\n",
              "      <td>Macho</td>\n",
              "      <td>Pequeno</td>\n",
              "      <td>Abaixo-de-2-meses</td>\n",
              "      <td>baby</td>\n",
              "      <td>https://adotar.com.br/ms-campo-grande/cao/enco...</td>\n",
              "      <td>https://adotar.com.br/painel/upload/2017-10/an...</td>\n",
              "      <td>filhotes</td>\n",
              "      <td>israel.riveroslescano@gmail.com</td>\n",
              "      <td>(67) 2525-5906\\r\\n</td>\n",
              "    </tr>\n",
              "    <tr>\n",
              "      <th>1</th>\n",
              "      <td>Encontrado</td>\n",
              "      <td>Gato</td>\n",
              "      <td>Macho</td>\n",
              "      <td>Pequeno</td>\n",
              "      <td>Abaixo-de-2-meses</td>\n",
              "      <td>baby</td>\n",
              "      <td>https://adotar.com.br/ms-campo-grande/gato/ado...</td>\n",
              "      <td>https://adotar.com.br/painel/upload/2021-01/an...</td>\n",
              "      <td>Nico</td>\n",
              "      <td>ameliade.oliveira98@gmail.com</td>\n",
              "      <td>(67) 99131-1051\\r\\n</td>\n",
              "    </tr>\n",
              "    <tr>\n",
              "      <th>2</th>\n",
              "      <td>Encontrado</td>\n",
              "      <td>Gato</td>\n",
              "      <td>Macho</td>\n",
              "      <td>Pequeno</td>\n",
              "      <td>Abaixo-de-2-meses</td>\n",
              "      <td>baby</td>\n",
              "      <td>https://adotar.com.br/ms-campo-grande/gato/enc...</td>\n",
              "      <td>https://adotar.com.br/painel/upload/2018-10/an...</td>\n",
              "      <td>sem</td>\n",
              "      <td>matheusborgescorrea@gmail.com</td>\n",
              "      <td>(67) 99682-9132\\r\\n</td>\n",
              "    </tr>\n",
              "    <tr>\n",
              "      <th>3</th>\n",
              "      <td>Encontrado</td>\n",
              "      <td>Cao</td>\n",
              "      <td>Macho</td>\n",
              "      <td>Pequeno</td>\n",
              "      <td>2-a-6-meses</td>\n",
              "      <td>baby</td>\n",
              "      <td>https://adotar.com.br/ms-campo-grande/cao/adoc...</td>\n",
              "      <td>https://adotar.com.br/painel/upload/2021-09/an...</td>\n",
              "      <td>Pretinho</td>\n",
              "      <td>ygoresaah@outlook.com</td>\n",
              "      <td>(67) 6799353-5060\\r\\n</td>\n",
              "    </tr>\n",
              "    <tr>\n",
              "      <th>4</th>\n",
              "      <td>Encontrado</td>\n",
              "      <td>Cao</td>\n",
              "      <td>Macho</td>\n",
              "      <td>Pequeno</td>\n",
              "      <td>2-a-6-meses</td>\n",
              "      <td>baby</td>\n",
              "      <td>https://adotar.com.br/ms-campo-grande/cao/enco...</td>\n",
              "      <td>https://adotar.com.br/painel/upload/2021-08/an...</td>\n",
              "      <td>Sem</td>\n",
              "      <td>soniameneghetivieira@gmail.com</td>\n",
              "      <td>(67) 99104-6930\\r\\n</td>\n",
              "    </tr>\n",
              "    <tr>\n",
              "      <th>...</th>\n",
              "      <td>...</td>\n",
              "      <td>...</td>\n",
              "      <td>...</td>\n",
              "      <td>...</td>\n",
              "      <td>...</td>\n",
              "      <td>...</td>\n",
              "      <td>...</td>\n",
              "      <td>...</td>\n",
              "      <td>...</td>\n",
              "      <td>...</td>\n",
              "      <td>...</td>\n",
              "    </tr>\n",
              "    <tr>\n",
              "      <th>1021</th>\n",
              "      <td>Procura-Perdido</td>\n",
              "      <td>Cao</td>\n",
              "      <td>Femea</td>\n",
              "      <td>Grande</td>\n",
              "      <td>6-anos-Acima</td>\n",
              "      <td>adult</td>\n",
              "      <td>https://adotar.com.br/ms-campo-grande/cao/proc...</td>\n",
              "      <td>https://adotar.com.br/painel/upload/2016-12/an...</td>\n",
              "      <td>Madona</td>\n",
              "      <td>robin.andreazzi@gmail.com</td>\n",
              "      <td>(67) 99129-4569\\r\\n</td>\n",
              "    </tr>\n",
              "    <tr>\n",
              "      <th>1022</th>\n",
              "      <td>Procura-Perdido</td>\n",
              "      <td>Cao</td>\n",
              "      <td>Femea</td>\n",
              "      <td>Grande</td>\n",
              "      <td>6-anos-Acima</td>\n",
              "      <td>adult</td>\n",
              "      <td>https://adotar.com.br/ms-campo-grande/cao/proc...</td>\n",
              "      <td>https://adotar.com.br/painel/upload/2016-07/an...</td>\n",
              "      <td>laika</td>\n",
              "      <td>malavazi28@yahoo.com.br</td>\n",
              "      <td>(67) 9681-7899\\r\\n</td>\n",
              "    </tr>\n",
              "    <tr>\n",
              "      <th>1023</th>\n",
              "      <td>Procura-Perdido</td>\n",
              "      <td>Cao</td>\n",
              "      <td>Femea</td>\n",
              "      <td>Grande</td>\n",
              "      <td>6-anos-Acima</td>\n",
              "      <td>adult</td>\n",
              "      <td>https://adotar.com.br/ms-campo-grande/cao/proc...</td>\n",
              "      <td>https://adotar.com.br/painel/upload/2013-07/an...</td>\n",
              "      <td>SUNA</td>\n",
              "      <td>sandra.mluz@hotmail.com</td>\n",
              "      <td>(67) 3382-3631\\r\\n</td>\n",
              "    </tr>\n",
              "    <tr>\n",
              "      <th>1024</th>\n",
              "      <td>Procura-Perdido</td>\n",
              "      <td>Cao</td>\n",
              "      <td>Femea</td>\n",
              "      <td>Grande</td>\n",
              "      <td>6-anos-Acima</td>\n",
              "      <td>adult</td>\n",
              "      <td>https://adotar.com.br/ms-campo-grande/cao/proc...</td>\n",
              "      <td>https://adotar.com.br/painel/upload/2009-07/an...</td>\n",
              "      <td>Cadela</td>\n",
              "      <td>mat_hrike@hotmail.com</td>\n",
              "      <td>(67) 3042-2946\\r\\n</td>\n",
              "    </tr>\n",
              "    <tr>\n",
              "      <th>1025</th>\n",
              "      <td>Procura-Perdido</td>\n",
              "      <td>Cao</td>\n",
              "      <td>Femea</td>\n",
              "      <td>Grande</td>\n",
              "      <td>6-anos-Acima</td>\n",
              "      <td>adult</td>\n",
              "      <td>https://adotar.com.br/ms-campo-grande/cao/proc...</td>\n",
              "      <td>https://adotar.com.br/painel/upload/2009-05/an...</td>\n",
              "      <td>Procura</td>\n",
              "      <td>joycekatiuccia@hotmail.com</td>\n",
              "      <td>(67) 3361-6014\\r\\n</td>\n",
              "    </tr>\n",
              "  </tbody>\n",
              "</table>\n",
              "<p>1026 rows × 11 columns</p>\n",
              "</div>\n",
              "      <button class=\"colab-df-convert\" onclick=\"convertToInteractive('df-6a87ac3d-11e3-479b-ab52-133c153793f8')\"\n",
              "              title=\"Convert this dataframe to an interactive table.\"\n",
              "              style=\"display:none;\">\n",
              "        \n",
              "  <svg xmlns=\"http://www.w3.org/2000/svg\" height=\"24px\"viewBox=\"0 0 24 24\"\n",
              "       width=\"24px\">\n",
              "    <path d=\"M0 0h24v24H0V0z\" fill=\"none\"/>\n",
              "    <path d=\"M18.56 5.44l.94 2.06.94-2.06 2.06-.94-2.06-.94-.94-2.06-.94 2.06-2.06.94zm-11 1L8.5 8.5l.94-2.06 2.06-.94-2.06-.94L8.5 2.5l-.94 2.06-2.06.94zm10 10l.94 2.06.94-2.06 2.06-.94-2.06-.94-.94-2.06-.94 2.06-2.06.94z\"/><path d=\"M17.41 7.96l-1.37-1.37c-.4-.4-.92-.59-1.43-.59-.52 0-1.04.2-1.43.59L10.3 9.45l-7.72 7.72c-.78.78-.78 2.05 0 2.83L4 21.41c.39.39.9.59 1.41.59.51 0 1.02-.2 1.41-.59l7.78-7.78 2.81-2.81c.8-.78.8-2.07 0-2.86zM5.41 20L4 18.59l7.72-7.72 1.47 1.35L5.41 20z\"/>\n",
              "  </svg>\n",
              "      </button>\n",
              "      \n",
              "  <style>\n",
              "    .colab-df-container {\n",
              "      display:flex;\n",
              "      flex-wrap:wrap;\n",
              "      gap: 12px;\n",
              "    }\n",
              "\n",
              "    .colab-df-convert {\n",
              "      background-color: #E8F0FE;\n",
              "      border: none;\n",
              "      border-radius: 50%;\n",
              "      cursor: pointer;\n",
              "      display: none;\n",
              "      fill: #1967D2;\n",
              "      height: 32px;\n",
              "      padding: 0 0 0 0;\n",
              "      width: 32px;\n",
              "    }\n",
              "\n",
              "    .colab-df-convert:hover {\n",
              "      background-color: #E2EBFA;\n",
              "      box-shadow: 0px 1px 2px rgba(60, 64, 67, 0.3), 0px 1px 3px 1px rgba(60, 64, 67, 0.15);\n",
              "      fill: #174EA6;\n",
              "    }\n",
              "\n",
              "    [theme=dark] .colab-df-convert {\n",
              "      background-color: #3B4455;\n",
              "      fill: #D2E3FC;\n",
              "    }\n",
              "\n",
              "    [theme=dark] .colab-df-convert:hover {\n",
              "      background-color: #434B5C;\n",
              "      box-shadow: 0px 1px 3px 1px rgba(0, 0, 0, 0.15);\n",
              "      filter: drop-shadow(0px 1px 2px rgba(0, 0, 0, 0.3));\n",
              "      fill: #FFFFFF;\n",
              "    }\n",
              "  </style>\n",
              "\n",
              "      <script>\n",
              "        const buttonEl =\n",
              "          document.querySelector('#df-6a87ac3d-11e3-479b-ab52-133c153793f8 button.colab-df-convert');\n",
              "        buttonEl.style.display =\n",
              "          google.colab.kernel.accessAllowed ? 'block' : 'none';\n",
              "\n",
              "        async function convertToInteractive(key) {\n",
              "          const element = document.querySelector('#df-6a87ac3d-11e3-479b-ab52-133c153793f8');\n",
              "          const dataTable =\n",
              "            await google.colab.kernel.invokeFunction('convertToInteractive',\n",
              "                                                     [key], {});\n",
              "          if (!dataTable) return;\n",
              "\n",
              "          const docLinkHtml = 'Like what you see? Visit the ' +\n",
              "            '<a target=\"_blank\" href=https://colab.research.google.com/notebooks/data_table.ipynb>data table notebook</a>'\n",
              "            + ' to learn more about interactive tables.';\n",
              "          element.innerHTML = '';\n",
              "          dataTable['output_type'] = 'display_data';\n",
              "          await google.colab.output.renderOutput(dataTable, element);\n",
              "          const docLink = document.createElement('div');\n",
              "          docLink.innerHTML = docLinkHtml;\n",
              "          element.appendChild(docLink);\n",
              "        }\n",
              "      </script>\n",
              "    </div>\n",
              "  </div>\n",
              "  "
            ],
            "text/plain": [
              "                 goal  ...                                          phone\n",
              "0          Encontrado  ...     (67) 2525-5906\\r\\n                        \n",
              "1          Encontrado  ...    (67) 99131-1051\\r\\n                        \n",
              "2          Encontrado  ...    (67) 99682-9132\\r\\n                        \n",
              "3          Encontrado  ...  (67) 6799353-5060\\r\\n                        \n",
              "4          Encontrado  ...    (67) 99104-6930\\r\\n                        \n",
              "...               ...  ...                                            ...\n",
              "1021  Procura-Perdido  ...    (67) 99129-4569\\r\\n                        \n",
              "1022  Procura-Perdido  ...     (67) 9681-7899\\r\\n                        \n",
              "1023  Procura-Perdido  ...     (67) 3382-3631\\r\\n                        \n",
              "1024  Procura-Perdido  ...     (67) 3042-2946\\r\\n                        \n",
              "1025  Procura-Perdido  ...     (67) 3361-6014\\r\\n                        \n",
              "\n",
              "[1026 rows x 11 columns]"
            ]
          },
          "metadata": {},
          "execution_count": 4
        }
      ]
    },
    {
      "cell_type": "code",
      "source": [
        "dataset.to_csv('dataset.csv', sep=';', index = False, encoding = 'utf-8-sig')"
      ],
      "metadata": {
        "id": "Kx7gba5ZJ2xq"
      },
      "execution_count": null,
      "outputs": []
    },
    {
      "cell_type": "markdown",
      "source": [
        "# Nova seção"
      ],
      "metadata": {
        "id": "sWZdrNfIJ7ZV"
      }
    },
    {
      "cell_type": "code",
      "source": [
        "dataset.dtypes\n",
        "\n"
      ],
      "metadata": {
        "id": "FllhqYhGUXYs",
        "colab": {
          "base_uri": "https://localhost:8080/"
        },
        "outputId": "23d6d7f8-40f8-4007-c942-c769ff18e294"
      },
      "execution_count": null,
      "outputs": [
        {
          "output_type": "execute_result",
          "data": {
            "text/plain": [
              "goal           object\n",
              "animal_type    object\n",
              "gender         object\n",
              "size           object\n",
              "year           object\n",
              "age            object\n",
              "link           object\n",
              "photo          object\n",
              "name           object\n",
              "email          object\n",
              "phone          object\n",
              "dtype: object"
            ]
          },
          "metadata": {},
          "execution_count": 7
        }
      ]
    },
    {
      "cell_type": "code",
      "source": [
        "import matplotlib.pyplot as plt"
      ],
      "metadata": {
        "id": "EsnfSZnMpnDr"
      },
      "execution_count": 5,
      "outputs": []
    },
    {
      "cell_type": "code",
      "source": [
        "plt.style.use('seaborn')"
      ],
      "metadata": {
        "id": "cTZxnIvgpQDK"
      },
      "execution_count": 6,
      "outputs": []
    },
    {
      "cell_type": "markdown",
      "source": [
        "Animais para Adoção, Procurados e Encontrados em Campo Grande-**MS**\n",
        "\n",
        "---\n",
        "\n"
      ],
      "metadata": {
        "id": "Fz4p2vmx5BBp"
      }
    },
    {
      "cell_type": "code",
      "source": [
        "print(dataset['goal'].value_counts())\n",
        "dataset['goal'].value_counts().plot.pie()\n",
        "\n"
      ],
      "metadata": {
        "colab": {
          "base_uri": "https://localhost:8080/",
          "height": 417
        },
        "id": "FVu_uttby81g",
        "outputId": "2304795a-2e97-4900-e528-f935f4e8bb54"
      },
      "execution_count": 7,
      "outputs": [
        {
          "output_type": "stream",
          "name": "stdout",
          "text": [
            "Procura-Perdido    821\n",
            "Adocao             110\n",
            "Encontrado          95\n",
            "Name: goal, dtype: int64\n"
          ]
        },
        {
          "output_type": "execute_result",
          "data": {
            "text/plain": [
              "<matplotlib.axes._subplots.AxesSubplot at 0x7f3e167412d0>"
            ]
          },
          "metadata": {},
          "execution_count": 7
        },
        {
          "output_type": "display_data",
          "data": {
            "image/png": "[encoded data removed]",
            "text/plain": [
              "<Figure size 576x396 with 1 Axes>"
            ]
          },
          "metadata": {}
        }
      ]
    },
    {
      "cell_type": "code",
      "source": [
        "dataset['goal'].value_counts().plot.barh()"
      ],
      "metadata": {
        "colab": {
          "base_uri": "https://localhost:8080/",
          "height": 364
        },
        "id": "fFJEovHpzdf5",
        "outputId": "62ec0dc3-579b-48a2-9ea7-9808829291e7"
      },
      "execution_count": 8,
      "outputs": [
        {
          "output_type": "execute_result",
          "data": {
            "text/plain": [
              "<matplotlib.axes._subplots.AxesSubplot at 0x7f3e16edf910>"
            ]
          },
          "metadata": {},
          "execution_count": 8
        },
        {
          "output_type": "display_data",
          "data": {
            "image/png": "[encoded data removed]",
            "text/plain": [
              "<Figure size 576x396 with 1 Axes>"
            ]
          },
          "metadata": {}
        }
      ]
    },
    {
      "cell_type": "markdown",
      "source": [
        "Animais para adoção em Campo Grande-MS separados por tipo (Cão e Gato)"
      ],
      "metadata": {
        "id": "ukqt2Ble5O5U"
      }
    },
    {
      "cell_type": "code",
      "source": [
        "type_set= dataset[(dataset['goal']=='Adocao')]\n",
        "type_set['animal_type'].value_counts()"
      ],
      "metadata": {
        "colab": {
          "base_uri": "https://localhost:8080/"
        },
        "id": "fccRLw7ezpm9",
        "outputId": "b0869657-b0ae-43b9-822c-c115fe8f47ab"
      },
      "execution_count": 18,
      "outputs": [
        {
          "output_type": "execute_result",
          "data": {
            "text/plain": [
              "Gato    75\n",
              "Cao     35\n",
              "Name: animal_type, dtype: int64"
            ]
          },
          "metadata": {},
          "execution_count": 18
        }
      ]
    },
    {
      "cell_type": "code",
      "source": [
        "type_set['animal_type'].value_counts().plot.pie()"
      ],
      "metadata": {
        "colab": {
          "base_uri": "https://localhost:8080/",
          "height": 347
        },
        "id": "WYwBe2jC0On8",
        "outputId": "bf7a31ab-9718-4d0f-eada-02dbb1e21f77"
      },
      "execution_count": 15,
      "outputs": [
        {
          "output_type": "execute_result",
          "data": {
            "text/plain": [
              "<matplotlib.axes._subplots.AxesSubplot at 0x7f3e16ef0750>"
            ]
          },
          "metadata": {},
          "execution_count": 15
        },
        {
          "output_type": "display_data",
          "data": {
            "image/png": "[encoded data removed]",
            "text/plain": [
              "<Figure size 576x396 with 1 Axes>"
            ]
          },
          "metadata": {}
        }
      ]
    },
    {
      "cell_type": "markdown",
      "source": [
        "Cachorros para adoção separados por gênero(Macho ou Fêmea)"
      ],
      "metadata": {
        "id": "Q20GUm155iWL"
      }
    },
    {
      "cell_type": "code",
      "source": [
        "goal_set = dataset[(dataset['goal']=='Adocao') & (dataset['animal_type']=='Cao')]\n",
        "print(goal_set['gender'].value_counts())\n",
        "goal_set['gender'].value_counts().plot.pie()"
      ],
      "metadata": {
        "colab": {
          "base_uri": "https://localhost:8080/",
          "height": 399
        },
        "id": "YUPCPthHkYSv",
        "outputId": "d1ccd47f-405f-43d8-858f-01951f40d9b5"
      },
      "execution_count": null,
      "outputs": [
        {
          "output_type": "stream",
          "name": "stdout",
          "text": [
            "Femea    18\n",
            "Macho    17\n",
            "Name: gender, dtype: int64\n"
          ]
        },
        {
          "output_type": "execute_result",
          "data": {
            "text/plain": [
              "<matplotlib.axes._subplots.AxesSubplot at 0x7fa3b157c590>"
            ]
          },
          "metadata": {},
          "execution_count": 10
        },
        {
          "output_type": "display_data",
          "data": {
            "image/png": "[encoded data removed]",
            "text/plain": [
              "<Figure size 576x396 with 1 Axes>"
            ]
          },
          "metadata": {}
        }
      ]
    },
    {
      "cell_type": "code",
      "source": [
        " goal_set['gender'].value_counts().plot.barh()\n",
        " "
      ],
      "metadata": {
        "colab": {
          "base_uri": "https://localhost:8080/",
          "height": 364
        },
        "id": "X2yAJaNOUiYR",
        "outputId": "8afb0b55-1092-40c7-9189-d1460f83f4fb"
      },
      "execution_count": null,
      "outputs": [
        {
          "output_type": "execute_result",
          "data": {
            "text/plain": [
              "<matplotlib.axes._subplots.AxesSubplot at 0x7f8ab85a4290>"
            ]
          },
          "metadata": {},
          "execution_count": 61
        },
        {
          "output_type": "display_data",
          "data": {
            "image/png": "[encoded data removed]",
            "text/plain": [
              "<Figure size 576x396 with 1 Axes>"
            ]
          },
          "metadata": {}
        }
      ]
    },
    {
      "cell_type": "markdown",
      "source": [
        "Gatos para adoção em Campo Grande-MS separados por gênero(Macho e Fêmea)"
      ],
      "metadata": {
        "id": "OZqlS-Zmu7p5"
      }
    },
    {
      "cell_type": "code",
      "source": [
        "goal_set = dataset[(dataset['goal']=='Adocao') & (dataset['animal_type']=='Gato')]\n",
        "print(goal_set['gender'].value_counts())\n",
        "goal_set['gender'].value_counts().plot.pie()"
      ],
      "metadata": {
        "id": "_9FTjaLefAYl",
        "colab": {
          "base_uri": "https://localhost:8080/",
          "height": 399
        },
        "outputId": "f1a345d3-89cd-4a14-ff95-833aa754d7d3"
      },
      "execution_count": null,
      "outputs": [
        {
          "output_type": "stream",
          "name": "stdout",
          "text": [
            "Femea    46\n",
            "Macho    29\n",
            "Name: gender, dtype: int64\n"
          ]
        },
        {
          "output_type": "execute_result",
          "data": {
            "text/plain": [
              "<matplotlib.axes._subplots.AxesSubplot at 0x7fa3b0bcf410>"
            ]
          },
          "metadata": {},
          "execution_count": 11
        },
        {
          "output_type": "display_data",
          "data": {
            "image/png": "[encoded data removed]",
            "text/plain": [
              "<Figure size 576x396 with 1 Axes>"
            ]
          },
          "metadata": {}
        }
      ]
    },
    {
      "cell_type": "code",
      "source": [
        "goal_set['gender'].value_counts().plot.barh()"
      ],
      "metadata": {
        "colab": {
          "base_uri": "https://localhost:8080/",
          "height": 364
        },
        "id": "z9RqWF6w1UYg",
        "outputId": "d2b2f2b9-2134-4276-de6a-f1b49c61275e"
      },
      "execution_count": null,
      "outputs": [
        {
          "output_type": "execute_result",
          "data": {
            "text/plain": [
              "<matplotlib.axes._subplots.AxesSubplot at 0x7f8ab84ad210>"
            ]
          },
          "metadata": {},
          "execution_count": 63
        },
        {
          "output_type": "display_data",
          "data": {
            "image/png": "[encoded data removed]",
            "text/plain": [
              "<Figure size 576x396 with 1 Axes>"
            ]
          },
          "metadata": {}
        }
      ]
    },
    {
      "cell_type": "markdown",
      "source": [
        "Cachorros Machos para adoção separados por porte (Pequeno, Médio e Grande)."
      ],
      "metadata": {
        "id": "pAFBPeSa54AQ"
      }
    },
    {
      "cell_type": "code",
      "source": [
        "goal_set = dataset[(dataset['goal']=='Adocao') & (dataset['animal_type']=='Cao') & (dataset['gender']=='Macho')]\n",
        "print(goal_set['size'].value_counts())\n",
        "goal_set['size'].value_counts().plot.barh()"
      ],
      "metadata": {
        "id": "0tlrlH_QfJzH",
        "colab": {
          "base_uri": "https://localhost:8080/",
          "height": 434
        },
        "outputId": "4d184337-69f4-4bae-959f-dd93185c5674"
      },
      "execution_count": null,
      "outputs": [
        {
          "output_type": "stream",
          "name": "stdout",
          "text": [
            "Medio      10\n",
            "Pequeno     5\n",
            "Grande      1\n",
            "Name: size, dtype: int64\n"
          ]
        },
        {
          "output_type": "execute_result",
          "data": {
            "text/plain": [
              "<matplotlib.axes._subplots.AxesSubplot at 0x7f8ab80036d0>"
            ]
          },
          "metadata": {},
          "execution_count": 75
        },
        {
          "output_type": "display_data",
          "data": {
            "image/png": "[encoded data removed]",
            "text/plain": [
              "<Figure size 576x396 with 1 Axes>"
            ]
          },
          "metadata": {}
        }
      ]
    },
    {
      "cell_type": "markdown",
      "source": [
        "Cachorros Fêmeas para adoção separados por Porte(Pequeno, Médio e Grande)."
      ],
      "metadata": {
        "id": "Ou7HgKLW6EVa"
      }
    },
    {
      "cell_type": "code",
      "source": [
        "goal_set = dataset[(dataset['goal']=='Adocao') & (dataset['animal_type']=='Cao') & (dataset['gender']=='Femea')]\n",
        "print(goal_set['size'].value_counts())\n",
        "goal_set['size'].value_counts().plot.barh()"
      ],
      "metadata": {
        "colab": {
          "base_uri": "https://localhost:8080/",
          "height": 416
        },
        "id": "4rCrlX3x3DSh",
        "outputId": "10995f05-e24f-43a5-bf42-83d5b65f4fb1"
      },
      "execution_count": null,
      "outputs": [
        {
          "output_type": "stream",
          "name": "stdout",
          "text": [
            "Medio      13\n",
            "Pequeno     5\n",
            "Name: size, dtype: int64\n"
          ]
        },
        {
          "output_type": "execute_result",
          "data": {
            "text/plain": [
              "<matplotlib.axes._subplots.AxesSubplot at 0x7f8ab894c990>"
            ]
          },
          "metadata": {},
          "execution_count": 76
        },
        {
          "output_type": "display_data",
          "data": {
            "image/png": "[encoded data removed]",
            "text/plain": [
              "<Figure size 576x396 with 1 Axes>"
            ]
          },
          "metadata": {}
        }
      ]
    },
    {
      "cell_type": "code",
      "source": [
        "Gatos Machos para adoção separados por Porte(Pequeno, Médio e Grande)."
      ],
      "metadata": {
        "id": "s9lxPMNV6PsQ"
      },
      "execution_count": null,
      "outputs": []
    },
    {
      "cell_type": "code",
      "source": [
        "goal_set = dataset[(dataset['goal']=='Adocao') & (dataset['animal_type']=='Gato') & (dataset['gender']=='Macho')]\n",
        "print(goal_set['size'].value_counts())\n",
        "goal_set['size'].value_counts().plot.barh()"
      ],
      "metadata": {
        "colab": {
          "base_uri": "https://localhost:8080/",
          "height": 416
        },
        "id": "_F6__naM3KGn",
        "outputId": "a5a17647-3e23-4bf0-c826-2ceb52c41adf"
      },
      "execution_count": null,
      "outputs": [
        {
          "output_type": "stream",
          "name": "stdout",
          "text": [
            "Pequeno    19\n",
            "Medio      10\n",
            "Name: size, dtype: int64\n"
          ]
        },
        {
          "output_type": "execute_result",
          "data": {
            "text/plain": [
              "<matplotlib.axes._subplots.AxesSubplot at 0x7f8ab87cb2d0>"
            ]
          },
          "metadata": {},
          "execution_count": 77
        },
        {
          "output_type": "display_data",
          "data": {
            "image/png": "[encoded data removed]",
            "text/plain": [
              "<Figure size 576x396 with 1 Axes>"
            ]
          },
          "metadata": {}
        }
      ]
    },
    {
      "cell_type": "markdown",
      "source": [
        "Gatos Fêmeas para adoção separadas por Porte"
      ],
      "metadata": {
        "id": "cWKtxKMA6cLJ"
      }
    },
    {
      "cell_type": "code",
      "source": [
        "goal_set = dataset[(dataset['goal']=='Adocao') & (dataset['animal_type']=='Gato') & (dataset['gender']=='Femea')]\n",
        "print(goal_set['size'].value_counts())\n",
        "goal_set['size'].value_counts().plot.barh()"
      ],
      "metadata": {
        "colab": {
          "base_uri": "https://localhost:8080/",
          "height": 416
        },
        "id": "xfKPdoJW3O1S",
        "outputId": "40e612da-9e75-4c4b-a1ab-9c9107b62faa"
      },
      "execution_count": null,
      "outputs": [
        {
          "output_type": "stream",
          "name": "stdout",
          "text": [
            "Pequeno    30\n",
            "Medio      16\n",
            "Name: size, dtype: int64\n"
          ]
        },
        {
          "output_type": "execute_result",
          "data": {
            "text/plain": [
              "<matplotlib.axes._subplots.AxesSubplot at 0x7f8ab7f64f10>"
            ]
          },
          "metadata": {},
          "execution_count": 78
        },
        {
          "output_type": "display_data",
          "data": {
            "image/png": "[encoded data removed]",
            "text/plain": [
              "<Figure size 576x396 with 1 Axes>"
            ]
          },
          "metadata": {}
        }
      ]
    },
    {
      "cell_type": "markdown",
      "source": [
        "Gatos Machos para adoção separados por Idade"
      ],
      "metadata": {
        "id": "Nh9gAK836niO"
      }
    },
    {
      "cell_type": "code",
      "source": [
        "goal_set = dataset[(dataset['goal']=='Adocao') & (dataset['animal_type']=='Gato') & (dataset['gender']=='Macho')]\n",
        "print(goal_set['year'].value_counts())\n",
        "goal_set['year'].value_counts().plot.barh()"
      ],
      "metadata": {
        "colab": {
          "base_uri": "https://localhost:8080/",
          "height": 486
        },
        "id": "QXmYjuwM16jc",
        "outputId": "f964866c-2243-4fd0-d057-702809aff143"
      },
      "execution_count": null,
      "outputs": [
        {
          "output_type": "stream",
          "name": "stdout",
          "text": [
            "2-a-6-meses          11\n",
            "Abaixo-de-2-meses     9\n",
            "7-a-11-meses          4\n",
            "1-ano                 3\n",
            "5-anos                1\n",
            "2-anos                1\n",
            "Name: year, dtype: int64\n"
          ]
        },
        {
          "output_type": "execute_result",
          "data": {
            "text/plain": [
              "<matplotlib.axes._subplots.AxesSubplot at 0x7f8ab811b710>"
            ]
          },
          "metadata": {},
          "execution_count": 73
        },
        {
          "output_type": "display_data",
          "data": {
            "image/png": "[encoded data removed]",
            "text/plain": [
              "<Figure size 576x396 with 1 Axes>"
            ]
          },
          "metadata": {}
        }
      ]
    },
    {
      "cell_type": "markdown",
      "source": [
        "Gatos Fêmeas para adoção separados por idade."
      ],
      "metadata": {
        "id": "BIyur4406tnn"
      }
    },
    {
      "cell_type": "code",
      "source": [
        "goal_set = dataset[(dataset['goal']=='Adocao') & (dataset['animal_type']=='Gato') & (dataset['gender']=='Femea')]\n",
        "print(goal_set['year'].value_counts())\n",
        "goal_set['year'].value_counts().plot.barh()"
      ],
      "metadata": {
        "colab": {
          "base_uri": "https://localhost:8080/",
          "height": 469
        },
        "id": "0TXkviwE9OVt",
        "outputId": "372dff95-aacd-42a8-85e7-a19cea6af387"
      },
      "execution_count": null,
      "outputs": [
        {
          "output_type": "stream",
          "name": "stdout",
          "text": [
            "2-a-6-meses          22\n",
            "1-ano                12\n",
            "Abaixo-de-2-meses     6\n",
            "7-a-11-meses          5\n",
            "3-anos                1\n",
            "Name: year, dtype: int64\n"
          ]
        },
        {
          "output_type": "execute_result",
          "data": {
            "text/plain": [
              "<matplotlib.axes._subplots.AxesSubplot at 0x7f8ab8146510>"
            ]
          },
          "metadata": {},
          "execution_count": 72
        },
        {
          "output_type": "display_data",
          "data": {
            "image/png": "[encoded data removed]",
            "text/plain": [
              "<Figure size 576x396 with 1 Axes>"
            ]
          },
          "metadata": {}
        }
      ]
    },
    {
      "cell_type": "markdown",
      "source": [
        "Cachorros Machos para adoção separados por Idade."
      ],
      "metadata": {
        "id": "OfA7ad4r6055"
      }
    },
    {
      "cell_type": "code",
      "source": [
        "goal_set = dataset[(dataset['goal']=='Adocao') & (dataset['animal_type']=='Cao') & (dataset['gender']=='Macho')]\n",
        "print(goal_set['year'].value_counts())\n",
        "goal_set['year'].value_counts().plot.barh()"
      ],
      "metadata": {
        "colab": {
          "base_uri": "https://localhost:8080/",
          "height": 486
        },
        "id": "EsL8YaVR2Nrn",
        "outputId": "946b67bb-ba73-4807-dbb7-7dfe9c4d55b7"
      },
      "execution_count": null,
      "outputs": [
        {
          "output_type": "stream",
          "name": "stdout",
          "text": [
            "1-ano                6\n",
            "2-a-6-meses          5\n",
            "Abaixo-de-2-meses    2\n",
            "4-anos               1\n",
            "5-anos               1\n",
            "7-a-11-meses         1\n",
            "Name: year, dtype: int64\n"
          ]
        },
        {
          "output_type": "execute_result",
          "data": {
            "text/plain": [
              "<matplotlib.axes._subplots.AxesSubplot at 0x7f8ab81d01d0>"
            ]
          },
          "metadata": {},
          "execution_count": 71
        },
        {
          "output_type": "display_data",
          "data": {
            "image/png": "[encoded data removed]",
            "text/plain": [
              "<Figure size 576x396 with 1 Axes>"
            ]
          },
          "metadata": {}
        }
      ]
    },
    {
      "cell_type": "markdown",
      "source": [
        "Cachorros Fêmeas para adoção separados por Idade."
      ],
      "metadata": {
        "id": "9_Rvdfrn67Mw"
      }
    },
    {
      "cell_type": "code",
      "source": [
        "goal_set = dataset[(dataset['goal']=='Adocao') & (dataset['animal_type']=='Cao') & (dataset['gender']=='Femea')]\n",
        "print(goal_set['year'].value_counts())\n",
        "goal_set['year'].value_counts().plot.barh()"
      ],
      "metadata": {
        "colab": {
          "base_uri": "https://localhost:8080/",
          "height": 486
        },
        "id": "05zK7lXi2Rt7",
        "outputId": "6e55ed23-6478-44dd-aa22-1602c39e4fa0"
      },
      "execution_count": null,
      "outputs": [
        {
          "output_type": "stream",
          "name": "stdout",
          "text": [
            "7-a-11-meses    7\n",
            "2-anos          4\n",
            "5-anos          2\n",
            "2-a-6-meses     2\n",
            "3-anos          2\n",
            "1-ano           1\n",
            "Name: year, dtype: int64\n"
          ]
        },
        {
          "output_type": "execute_result",
          "data": {
            "text/plain": [
              "<matplotlib.axes._subplots.AxesSubplot at 0x7f8ab825c750>"
            ]
          },
          "metadata": {},
          "execution_count": 70
        },
        {
          "output_type": "display_data",
          "data": {
            "image/png": "[encoded data removed]",
            "text/plain": [
              "<Figure size 576x396 with 1 Axes>"
            ]
          },
          "metadata": {}
        }
      ]
    }
  ],
  "metadata": {
    "accelerator": "GPU",
    "colab": {
      "name": "caramelo_dataset.ipynb",
      "provenance": [],
      "collapsed_sections": []
    },
    "kernelspec": {
      "display_name": "Python 3",
      "language": "python",
      "name": "python3"
    },
    "language_info": {
      "codemirror_mode": {
        "name": "ipython",
        "version": 3
      },
      "file_extension": ".py",
      "mimetype": "text/x-python",
      "name": "python",
      "nbconvert_exporter": "python",
      "pygments_lexer": "ipython3",
      "version": "3.9.2"
    }
  },
  "nbformat": 4,
  "nbformat_minor": 0
}